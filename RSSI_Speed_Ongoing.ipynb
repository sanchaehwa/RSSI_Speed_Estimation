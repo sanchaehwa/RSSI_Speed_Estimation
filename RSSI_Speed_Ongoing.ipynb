{
 "cells": [
  {
   "cell_type": "code",
   "execution_count": 1,
   "metadata": {},
   "outputs": [],
   "source": [
    "import pandas as pd\n",
    "import matplotlib.pyplot as plt\n",
    "#import os\n",
    "\n",
    "# 파일 경로\n",
    "path = \"/Users/yanghwayeong/Desktop/RSSI_Speed_Estimation/data/\"\n",
    "# 파일 목록\n",
    "files = ['30528.csv', '30538.csv', '30547.csv', '30549.csv', '30550.csv', '30556.csv', '30557.csv']\n",
    "\n",
    "# DataFrame들을 저장할 리스트 초기화\n",
    "dataframes = []\n",
    "\n",
    "# 각 파일을 순회하면서 데이터 로드\n",
    "for file in files:\n",
    "    df = pd.read_csv(path + file)  # 여기서는 각 file 변수를 path와 정확히 연결\n",
    "    dataframes.append(df)  # 각 DataFrame을 리스트에 추가\n",
    "rssi1 = pd.DataFrame(dataframes[0]['rssi'][0:67652])\n",
    "rssi2 = pd.DataFrame(dataframes[1]['rssi'][0:63438])\n",
    "rssi3 = pd.DataFrame(dataframes[2]['rssi'][0:55920])\n",
    "rssi4 = pd.DataFrame(dataframes[3]['rssi'][0:64333])\n",
    "rssi5 = pd.DataFrame(dataframes[4]['rssi'][0:54418])\n",
    "rssi6 = pd.DataFrame(dataframes[5]['rssi'][0:58882])\n",
    "rssi7 = pd.DataFrame(dataframes[6]['rssi'][0:53738])\n",
    "dataframes_rssi = [rssi1,rssi2,rssi3,rssi4,rssi5,rssi6,rssi7]\n",
    "#for i in range(0, df.shape[6]):\n",
    "  ## rssimin[i] = rssi[i].min()\n",
    "#rssi값 최대, 최소값 \n",
    "# rssi값의 최대, 최소값 구하기\n",
    "rssimax = []\n",
    "rssimin = []\n",
    "\n",
    "for rssi_df in dataframes_rssi:\n",
    "    rssimax.append(rssi_df['rssi'].max())  # 최대값\n",
    "    rssimin.append(rssi_df['rssi'].min())  # 최소값\n"
   ]
  },
  {
   "cell_type": "code",
   "execution_count": 2,
   "metadata": {},
   "outputs": [
    {
     "name": "stdout",
     "output_type": "stream",
     "text": [
      "[-56, -77] [-61, -93] [-65, -96] [-54, -82] [-68, -88] [-64, -99] [-71, -97]\n"
     ]
    }
   ],
   "source": [
    "# 거리 추정 기준 최대 최소 \n",
    "\n",
    "rssi1_standard = list((rssimax[0],rssimin[0]))\n",
    "rssi2_standard = list((rssimax[1],rssimin[1]))\n",
    "rssi3_standard = list((rssimax[2],rssimin[2]))\n",
    "rssi4_standard = list((rssimax[3],rssimin[3]))\n",
    "rssi5_standard = list((rssimax[4],rssimin[4]))\n",
    "rssi6_standard = list((rssimax[5],rssimin[5]))\n",
    "rssi7_standard = list((rssimax[6],rssimin[6]))\n",
    "print(rssi1_standard, rssi2_standard, rssi3_standard, rssi4_standard, rssi5_standard,rssi6_standard,rssi7_standard)\n"
   ]
  },
  {
   "cell_type": "code",
   "execution_count": 3,
   "metadata": {},
   "outputs": [
    {
     "name": "stdout",
     "output_type": "stream",
     "text": [
      "2024-03-18 00:00:00\n",
      "<class 'pandas.core.frame.DataFrame'>\n",
      "                      time\n",
      "0      2024-03-18 00:00:00\n",
      "1      2024-03-18 00:00:01\n",
      "2      2024-03-18 00:00:02\n",
      "3      2024-03-18 00:00:03\n",
      "4      2024-03-18 00:00:04\n",
      "...                    ...\n",
      "172796 2024-03-19 23:59:56\n",
      "172797 2024-03-19 23:59:57\n",
      "172798 2024-03-19 23:59:58\n",
      "172799 2024-03-19 23:59:59\n",
      "172800 2024-03-20 00:00:00\n",
      "\n",
      "[172801 rows x 1 columns]\n"
     ]
    }
   ],
   "source": [
    "import datetime\n",
    "import pandas as pd\n",
    "\n",
    "# 시작 및 종료 날짜 설정\n",
    "start = datetime.datetime(2024, 3, 18, 0, 0, 0)\n",
    "end = datetime.datetime(2024, 3, 20, 0, 0, 0)\n",
    "\n",
    "# 결과 날짜를 저장할 리스트 초기화\n",
    "dates_list = []\n",
    "\n",
    "# 지정된 날짜 범위 내에서 모든 시간을 리스트에 추가\n",
    "res_date = start\n",
    "while res_date <= end:\n",
    "    dates_list.append(res_date)\n",
    "    res_date += datetime.timedelta(seconds=1)\n",
    "\n",
    "# 리스트를 사용하여 데이터 프레임 생성\n",
    "df = pd.DataFrame(dates_list, columns=['DateTime'])\n",
    "\n",
    "# 데이터 프레임 출력\n",
    "print(dates_list[0])\n",
    "df_speedestimation = pd.DataFrame({\n",
    "    'time' :dates_list\n",
    "})\n",
    "df_speedestimation.to_csv(path + 'edit.csv', index=True)\n",
    "# 데이터 프레임의 타입 확인\n",
    "print(type(df))\n",
    "print(df_speedestimation)\n"
   ]
  },
  {
   "cell_type": "code",
   "execution_count": null,
   "metadata": {},
   "outputs": [],
   "source": []
  },
  {
   "cell_type": "markdown",
   "metadata": {},
   "source": [
    "자...\n",
    "랜덤값 생성하고 <br>\n",
    "랜덤값에 맞게 rssi 값 넣어보면.. 끝 <br>"
   ]
  },
  {
   "cell_type": "markdown",
   "metadata": {},
   "source": [
    "impoer "
   ]
  },
  {
   "cell_type": "code",
   "execution_count": 67,
   "metadata": {},
   "outputs": [
    {
     "name": "stdout",
     "output_type": "stream",
     "text": [
      "[1, 7]\n"
     ]
    }
   ],
   "source": [
    "import random\n",
    "import numpy as np\n",
    "\n",
    "result = []\n",
    "if len(result) == 0:\n",
    "        result.append(random.randint(1, 7))\n",
    "\n",
    "while len(result) < 172801:\n",
    "        last_number = result[-1]\n",
    "        if last_number == 1:\n",
    "            next_numbers = [1, 5]\n",
    "        elif last_number == 7:\n",
    "            next_numbers = [6, 7]\n",
    "        else:\n",
    "            next_numbers = [last_number - 1, last_number, last_number + 1]\n",
    "        \n",
    "        # 다음 숫자를 next_numbers 리스트에서 랜덤하게 선택하여 추가\n",
    "        result.append(random.choice(next_numbers))\n",
    "\n",
    "print(result)\n",
    "    # 초기 숫자 설정\n",
    "\n",
    "#df_csv = pd.DataFrame({\n",
    " #   'realdist' : result\n",
    "#})\n",
    "#df_csv.to_csv(path + 'd.csv',index=False)"
   ]
  },
  {
   "cell_type": "code",
   "execution_count": 1,
   "metadata": {},
   "outputs": [
    {
     "name": "stderr",
     "output_type": "stream",
     "text": [
      "<>:9: SyntaxWarning: 'set' object is not subscriptable; perhaps you missed a comma?\n",
      "<>:9: SyntaxWarning: 'set' object is not subscriptable; perhaps you missed a comma?\n"
     ]
    },
    {
     "ename": "KeyboardInterrupt",
     "evalue": "",
     "output_type": "error",
     "traceback": [
      "\u001b[0;31m---------------------------------------------------------------------------\u001b[0m",
      "\u001b[0;31mKeyboardInterrupt\u001b[0m                         Traceback (most recent call last)",
      "Cell \u001b[0;32mIn[1], line 1\u001b[0m\n\u001b[0;32m----> 1\u001b[0m \u001b[38;5;28;01mimport\u001b[39;00m \u001b[38;5;21;01mpandas\u001b[39;00m \u001b[38;5;28;01mas\u001b[39;00m \u001b[38;5;21;01mpd\u001b[39;00m\n\u001b[1;32m      2\u001b[0m \u001b[38;5;28;01mimport\u001b[39;00m \u001b[38;5;21;01mnumpy\u001b[39;00m \u001b[38;5;28;01mas\u001b[39;00m \u001b[38;5;21;01mnp\u001b[39;00m\n\u001b[1;32m      4\u001b[0m df \u001b[38;5;241m=\u001b[39m pd\u001b[38;5;241m.\u001b[39mDataFrame(index\u001b[38;5;241m=\u001b[39m\u001b[38;5;28mrange\u001b[39m(\u001b[38;5;241m172801\u001b[39m))\n",
      "File \u001b[0;32m/Library/Frameworks/Python.framework/Versions/3.12/lib/python3.12/site-packages/pandas/__init__.py:14\u001b[0m\n\u001b[1;32m     12\u001b[0m \u001b[38;5;28;01mfor\u001b[39;00m _dependency \u001b[38;5;129;01min\u001b[39;00m _hard_dependencies:\n\u001b[1;32m     13\u001b[0m     \u001b[38;5;28;01mtry\u001b[39;00m:\n\u001b[0;32m---> 14\u001b[0m         \u001b[38;5;28;43m__import__\u001b[39;49m\u001b[43m(\u001b[49m\u001b[43m_dependency\u001b[49m\u001b[43m)\u001b[49m\n\u001b[1;32m     15\u001b[0m     \u001b[38;5;28;01mexcept\u001b[39;00m \u001b[38;5;167;01mImportError\u001b[39;00m \u001b[38;5;28;01mas\u001b[39;00m _e:  \u001b[38;5;66;03m# pragma: no cover\u001b[39;00m\n\u001b[1;32m     16\u001b[0m         _missing_dependencies\u001b[38;5;241m.\u001b[39mappend(\u001b[38;5;124mf\u001b[39m\u001b[38;5;124m\"\u001b[39m\u001b[38;5;132;01m{\u001b[39;00m_dependency\u001b[38;5;132;01m}\u001b[39;00m\u001b[38;5;124m: \u001b[39m\u001b[38;5;132;01m{\u001b[39;00m_e\u001b[38;5;132;01m}\u001b[39;00m\u001b[38;5;124m\"\u001b[39m)\n",
      "File \u001b[0;32m/Library/Frameworks/Python.framework/Versions/3.12/lib/python3.12/site-packages/numpy/__init__.py:130\u001b[0m\n\u001b[1;32m    127\u001b[0m \u001b[38;5;28;01mfrom\u001b[39;00m \u001b[38;5;21;01m.\u001b[39;00m \u001b[38;5;28;01mimport\u001b[39;00m _distributor_init\n\u001b[1;32m    129\u001b[0m \u001b[38;5;28;01mtry\u001b[39;00m:\n\u001b[0;32m--> 130\u001b[0m     \u001b[38;5;28;01mfrom\u001b[39;00m \u001b[38;5;21;01mnumpy\u001b[39;00m\u001b[38;5;21;01m.\u001b[39;00m\u001b[38;5;21;01m__config__\u001b[39;00m \u001b[38;5;28;01mimport\u001b[39;00m show \u001b[38;5;28;01mas\u001b[39;00m show_config\n\u001b[1;32m    131\u001b[0m \u001b[38;5;28;01mexcept\u001b[39;00m \u001b[38;5;167;01mImportError\u001b[39;00m \u001b[38;5;28;01mas\u001b[39;00m e:\n\u001b[1;32m    132\u001b[0m     msg \u001b[38;5;241m=\u001b[39m \u001b[38;5;124m\"\"\"\u001b[39m\u001b[38;5;124mError importing numpy: you should not try to import numpy from\u001b[39m\n\u001b[1;32m    133\u001b[0m \u001b[38;5;124m    its source directory; please exit the numpy source tree, and relaunch\u001b[39m\n\u001b[1;32m    134\u001b[0m \u001b[38;5;124m    your python interpreter from there.\u001b[39m\u001b[38;5;124m\"\"\"\u001b[39m\n",
      "File \u001b[0;32m/Library/Frameworks/Python.framework/Versions/3.12/lib/python3.12/site-packages/numpy/__config__.py:4\u001b[0m\n\u001b[1;32m      1\u001b[0m \u001b[38;5;66;03m# This file is generated by numpy's build process\u001b[39;00m\n\u001b[1;32m      2\u001b[0m \u001b[38;5;66;03m# It contains system_info results at the time of building this package.\u001b[39;00m\n\u001b[1;32m      3\u001b[0m \u001b[38;5;28;01mfrom\u001b[39;00m \u001b[38;5;21;01menum\u001b[39;00m \u001b[38;5;28;01mimport\u001b[39;00m Enum\n\u001b[0;32m----> 4\u001b[0m \u001b[38;5;28;01mfrom\u001b[39;00m \u001b[38;5;21;01mnumpy\u001b[39;00m\u001b[38;5;21;01m.\u001b[39;00m\u001b[38;5;21;01mcore\u001b[39;00m\u001b[38;5;21;01m.\u001b[39;00m\u001b[38;5;21;01m_multiarray_umath\u001b[39;00m \u001b[38;5;28;01mimport\u001b[39;00m (\n\u001b[1;32m      5\u001b[0m     __cpu_features__,\n\u001b[1;32m      6\u001b[0m     __cpu_baseline__,\n\u001b[1;32m      7\u001b[0m     __cpu_dispatch__,\n\u001b[1;32m      8\u001b[0m )\n\u001b[1;32m     10\u001b[0m __all__ \u001b[38;5;241m=\u001b[39m [\u001b[38;5;124m\"\u001b[39m\u001b[38;5;124mshow\u001b[39m\u001b[38;5;124m\"\u001b[39m]\n\u001b[1;32m     11\u001b[0m _built_with_meson \u001b[38;5;241m=\u001b[39m \u001b[38;5;28;01mTrue\u001b[39;00m\n",
      "File \u001b[0;32m/Library/Frameworks/Python.framework/Versions/3.12/lib/python3.12/site-packages/numpy/core/__init__.py:24\u001b[0m\n\u001b[1;32m     21\u001b[0m         env_added\u001b[38;5;241m.\u001b[39mappend(envkey)\n\u001b[1;32m     23\u001b[0m \u001b[38;5;28;01mtry\u001b[39;00m:\n\u001b[0;32m---> 24\u001b[0m     \u001b[38;5;28;01mfrom\u001b[39;00m \u001b[38;5;21;01m.\u001b[39;00m \u001b[38;5;28;01mimport\u001b[39;00m multiarray\n\u001b[1;32m     25\u001b[0m \u001b[38;5;28;01mexcept\u001b[39;00m \u001b[38;5;167;01mImportError\u001b[39;00m \u001b[38;5;28;01mas\u001b[39;00m exc:\n\u001b[1;32m     26\u001b[0m     \u001b[38;5;28;01mimport\u001b[39;00m \u001b[38;5;21;01msys\u001b[39;00m\n",
      "File \u001b[0;32m/Library/Frameworks/Python.framework/Versions/3.12/lib/python3.12/site-packages/numpy/core/multiarray.py:10\u001b[0m\n\u001b[1;32m      1\u001b[0m \u001b[38;5;124;03m\"\"\"\u001b[39;00m\n\u001b[1;32m      2\u001b[0m \u001b[38;5;124;03mCreate the numpy.core.multiarray namespace for backward compatibility. In v1.16\u001b[39;00m\n\u001b[1;32m      3\u001b[0m \u001b[38;5;124;03mthe multiarray and umath c-extension modules were merged into a single\u001b[39;00m\n\u001b[0;32m   (...)\u001b[0m\n\u001b[1;32m      6\u001b[0m \n\u001b[1;32m      7\u001b[0m \u001b[38;5;124;03m\"\"\"\u001b[39;00m\n\u001b[1;32m      9\u001b[0m \u001b[38;5;28;01mimport\u001b[39;00m \u001b[38;5;21;01mfunctools\u001b[39;00m\n\u001b[0;32m---> 10\u001b[0m \u001b[38;5;28;01mfrom\u001b[39;00m \u001b[38;5;21;01m.\u001b[39;00m \u001b[38;5;28;01mimport\u001b[39;00m overrides\n\u001b[1;32m     11\u001b[0m \u001b[38;5;28;01mfrom\u001b[39;00m \u001b[38;5;21;01m.\u001b[39;00m \u001b[38;5;28;01mimport\u001b[39;00m _multiarray_umath\n\u001b[1;32m     12\u001b[0m \u001b[38;5;28;01mfrom\u001b[39;00m \u001b[38;5;21;01m.\u001b[39;00m\u001b[38;5;21;01m_multiarray_umath\u001b[39;00m \u001b[38;5;28;01mimport\u001b[39;00m \u001b[38;5;241m*\u001b[39m  \u001b[38;5;66;03m# noqa: F403\u001b[39;00m\n",
      "File \u001b[0;32m/Library/Frameworks/Python.framework/Versions/3.12/lib/python3.12/site-packages/numpy/core/overrides.py:8\u001b[0m\n\u001b[1;32m      6\u001b[0m \u001b[38;5;28;01mfrom\u001b[39;00m \u001b[38;5;21;01m.\u001b[39;00m\u001b[38;5;21;01m.\u001b[39;00m\u001b[38;5;21;01m_utils\u001b[39;00m \u001b[38;5;28;01mimport\u001b[39;00m set_module\n\u001b[1;32m      7\u001b[0m \u001b[38;5;28;01mfrom\u001b[39;00m \u001b[38;5;21;01m.\u001b[39;00m\u001b[38;5;21;01m.\u001b[39;00m\u001b[38;5;21;01m_utils\u001b[39;00m\u001b[38;5;21;01m.\u001b[39;00m\u001b[38;5;21;01m_inspect\u001b[39;00m \u001b[38;5;28;01mimport\u001b[39;00m getargspec\n\u001b[0;32m----> 8\u001b[0m \u001b[38;5;28;01mfrom\u001b[39;00m \u001b[38;5;21;01mnumpy\u001b[39;00m\u001b[38;5;21;01m.\u001b[39;00m\u001b[38;5;21;01mcore\u001b[39;00m\u001b[38;5;21;01m.\u001b[39;00m\u001b[38;5;21;01m_multiarray_umath\u001b[39;00m \u001b[38;5;28;01mimport\u001b[39;00m (\n\u001b[1;32m      9\u001b[0m     add_docstring,  _get_implementing_args, _ArrayFunctionDispatcher)\n\u001b[1;32m     12\u001b[0m ARRAY_FUNCTIONS \u001b[38;5;241m=\u001b[39m \u001b[38;5;28mset\u001b[39m()\n\u001b[1;32m     14\u001b[0m array_function_like_doc \u001b[38;5;241m=\u001b[39m (\n\u001b[1;32m     15\u001b[0m \u001b[38;5;250m    \u001b[39m\u001b[38;5;124;03m\"\"\"like : array_like, optional\u001b[39;00m\n\u001b[1;32m     16\u001b[0m \u001b[38;5;124;03m        Reference object to allow the creation of arrays which are not\u001b[39;00m\n\u001b[0;32m   (...)\u001b[0m\n\u001b[1;32m     20\u001b[0m \u001b[38;5;124;03m        compatible with that passed in via this argument.\"\"\"\u001b[39;00m\n\u001b[1;32m     21\u001b[0m )\n",
      "File \u001b[0;32m<frozen importlib._bootstrap>:463\u001b[0m, in \u001b[0;36m_lock_unlock_module\u001b[0;34m(name)\u001b[0m\n",
      "\u001b[0;31mKeyboardInterrupt\u001b[0m: "
     ]
    }
   ],
   "source": [
    "import pandas as pd\n",
    "import numpy as np\n",
    "\n",
    "df = pd.DataFrame(index=range(172801))\n",
    "\n",
    "pattern = list(range(1,8)) + list(range(6, 0, -1))\n",
    "\n",
    "repeat_times = len(df) // len(pattern) + 1\n",
    "full_pattern = {pattern * repeat_times} [:len(df)]\n",
    "df['realdistance'] = full_pattern\n",
    "print(df.head(14))"
   ]
  },
  {
   "cell_type": "code",
   "execution_count": 5,
   "metadata": {},
   "outputs": [],
   "source": [
    "import numpy as np\n",
    "def generate_rssi(result):\n",
    "    # 기존의 RSSI 생성 로직\n",
    "    if result == 1:\n",
    "        return np.random.randint(-77, -56)\n",
    "    elif result  == 2:\n",
    "        return np.random.randint(-93, -61)\n",
    "    elif result  == 3:\n",
    "        return np.random.randint(-96, -65)\n",
    "    elif result == 4:\n",
    "        return np.random.randint(-82, -54)\n",
    "    elif result  == 5:\n",
    "        return np.random.randint(-88, -68)\n",
    "    elif result == 6:\n",
    "        return np.random.randint(-99, -64)\n",
    "    else:  # dist == 7\n",
    "        return np.random.randint(-97, -71)\n",
    "result_values = range(1,172802)\n",
    "rssi_values = [generate_rssi(result)  for result in result_values]"
   ]
  },
  {
   "cell_type": "code",
   "execution_count": 6,
   "metadata": {},
   "outputs": [
    {
     "name": "stdout",
     "output_type": "stream",
     "text": [
      "                       x  major  minor  rssi  txpower  est_dist  \\\n",
      "0      c2:02:0b:00:05:44  40001  30528   -64      -59      1.82   \n",
      "1      c2:02:0b:00:05:44  40001  30528   -62      -59      1.59   \n",
      "2      c2:02:0b:00:05:44  40001  30528   -65      -59      1.94   \n",
      "3      c2:02:0b:00:05:44  40001  30528   -64      -59      1.82   \n",
      "4      c2:02:0b:00:05:44  40001  30528   -66      -59      2.08   \n",
      "...                  ...    ...    ...   ...      ...       ...   \n",
      "67646  c2:02:0b:00:05:44  40001  30528   -64      -59      1.82   \n",
      "67647  c2:02:0b:00:05:44  40001  30528   -57      -59      0.71   \n",
      "67648  c2:02:0b:00:05:44  40001  30528   -58      -59      0.84   \n",
      "67649  c2:02:0b:00:05:44  40001  30528   -58      -59      0.84   \n",
      "67650  c2:02:0b:00:05:44  40001  30528   -65      -59      1.94   \n",
      "\n",
      "                   time  real_dist  \n",
      "0      2021.11.16 14:20          1  \n",
      "1      2021.11.16 14:20          1  \n",
      "2      2021.11.16 14:20          1  \n",
      "3      2021.11.16 14:20          1  \n",
      "4      2021.11.16 14:20          1  \n",
      "...                 ...        ...  \n",
      "67646   2021.11.17 6:38          1  \n",
      "67647   2021.11.17 6:38          1  \n",
      "67648   2021.11.17 6:38          1  \n",
      "67649   2021.11.17 6:38          1  \n",
      "67650   2021.11.17 6:38          1  \n",
      "\n",
      "[67651 rows x 8 columns]\n"
     ]
    },
    {
     "ename": "NameError",
     "evalue": "name 'result' is not defined",
     "output_type": "error",
     "traceback": [
      "\u001b[0;31m---------------------------------------------------------------------------\u001b[0m",
      "\u001b[0;31mNameError\u001b[0m                                 Traceback (most recent call last)",
      "Cell \u001b[0;32mIn[6], line 11\u001b[0m\n\u001b[1;32m      9\u001b[0m rssi \u001b[38;5;241m=\u001b[39m rssi_values \n\u001b[1;32m     10\u001b[0m txpower \u001b[38;5;241m=\u001b[39m df[\u001b[38;5;124m'\u001b[39m\u001b[38;5;124mtxpower\u001b[39m\u001b[38;5;124m'\u001b[39m][\u001b[38;5;241m0\u001b[39m:\u001b[38;5;241m54418\u001b[39m]\n\u001b[0;32m---> 11\u001b[0m realdist \u001b[38;5;241m=\u001b[39m \u001b[43mresult\u001b[49m\n",
      "\u001b[0;31mNameError\u001b[0m: name 'result' is not defined"
     ]
    }
   ],
   "source": [
    "import pandas as pd\n",
    "path = \"/Users/yanghwayeong/Desktop/RSSI_Speed_Estimation/data/30528.csv\"\n",
    "dataframes = []\n",
    "df = pd.read_csv(path)\n",
    "print(df)\n",
    "uuid = df['x'][0:54418]\n",
    "major = df['major'][0:54418]\n",
    "minor = df['minor'][0:54418]\n",
    "rssi = rssi_values \n",
    "txpower = df['txpower'][0:54418]\n",
    "realdist = result\n",
    "\n"
   ]
  },
  {
   "cell_type": "markdown",
   "metadata": {},
   "source": []
  },
  {
   "cell_type": "code",
   "execution_count": 55,
   "metadata": {},
   "outputs": [
    {
     "name": "stdout",
     "output_type": "stream",
     "text": [
      "<class 'pandas.core.frame.DataFrame'>\n",
      "RangeIndex: 172801 entries, 0 to 172800\n",
      "Data columns (total 8 columns):\n",
      " #   Column     Non-Null Count   Dtype  \n",
      "---  ------     --------------   -----  \n",
      " 0   x          172801 non-null  object \n",
      " 1   major      172801 non-null  int64  \n",
      " 2   minor      172801 non-null  int64  \n",
      " 3   rssi       172801 non-null  int64  \n",
      " 4   txpower    172801 non-null  int64  \n",
      " 5   est_dist   172801 non-null  float64\n",
      " 6   time       172801 non-null  object \n",
      " 7   real_dist  172801 non-null  int64  \n",
      "dtypes: float64(1), int64(5), object(2)\n",
      "memory usage: 10.5+ MB\n",
      "None\n"
     ]
    }
   ],
   "source": [
    "\n",
    "# 원하는 길이\n",
    "desired_length = 172801\n",
    "\n",
    "# 기존 데이터의 길이\n",
    "original_length = len(df)\n",
    "repeat_times = -(-desired_length // original_length)  # 올림 처리\n",
    "\n",
    "# 데이터 반복\n",
    "df_repeated = pd.concat([df] * repeat_times).reset_index(drop=True)\n",
    "\n",
    "# 원하는 길이로 데이터 프레임 자르기\n",
    "df_resized = df_repeated.iloc[:desired_length]\n",
    "\n",
    "# 결과 확인\n",
    "print(df_resized.info())\n",
    "\n",
    "# 필요한 컬럼 추출\n",
    "uuid = df_resized['x']\n",
    "major = df_resized['major']\n",
    "minor = df_resized['minor']\n",
    "txpower = df_resized['txpower']"
   ]
  },
  {
   "cell_type": "code",
   "execution_count": 56,
   "metadata": {},
   "outputs": [],
   "source": [
    "import pandas as pd\n",
    "\n",
    "# 이전 단계에서 생성한 데이터 또는 계산된 결과\n",
    "# x, major, rssi, txpower, realdist, df_speedestimation 등의 변수가 이미 정의되어 있다고 가정\n",
    "\n",
    "path = \"/Users/yanghwayeong/Desktop/RSSI_Speed_Estimation/data/\"\n",
    "df_1m = []\n",
    "df_1m = pd.DataFrame({\n",
    "    'x': uuid,\n",
    "    'major': major,\n",
    "    'minor': minor,\n",
    "    'rssi': rssi,\n",
    "    'txpower': txpower,\n",
    "    'realdist': realdist,\n",
    "})\n",
    "df_1m.to_csv(path + '5m.csv', index=False)\n",
    " \n",
    "\n",
    "# CSV 파일로 저장"
   ]
  },
  {
   "cell_type": "code",
   "execution_count": 2,
   "metadata": {},
   "outputs": [],
   "source": [
    "import pandas as pd\n",
    "import numpy as np  # numpy 라이브러리를 사용해 데이터를 섞음\n",
    "\n",
    "# 파일 경로\n",
    "path = \"/Users/yanghwayeong/Desktop/RSSI_Speed_Estimation/data/\"\n",
    "# 파일 목록\n",
    "files = ['1m.csv', '2m.csv', '3m.csv', '4m.csv', '5m.csv', '6m.csv']\n",
    "\n",
    "# DataFrame들을 저장할 리스트 초기화\n",
    "dataframes = []\n",
    "\n",
    "# 각 파일을 순회하면서 데이터 로드\n",
    "for file in files:\n",
    "    df = pd.read_csv(path + file)  # 여기서는 각 file 변수를 path와 정확히 연결\n",
    "    dataframes.append(df)  # 각 DataFrame을 리스트에 추가\n",
    "\n",
    "# 모든 데이터 프레임의 'realdist' 열을 하나로 합침\n",
    "all_realdist = pd.concat([df['realdist'] for df in dataframes]).reset_index(drop=True)\n",
    "\n"
   ]
  },
  {
   "cell_type": "code",
   "execution_count": 39,
   "metadata": {},
   "outputs": [
    {
     "ename": "IndexError",
     "evalue": "list index out of range",
     "output_type": "error",
     "traceback": [
      "\u001b[0;31m---------------------------------------------------------------------------\u001b[0m",
      "\u001b[0;31mIndexError\u001b[0m                                Traceback (most recent call last)",
      "Cell \u001b[0;32mIn[39], line 10\u001b[0m\n\u001b[1;32m      6\u001b[0m     df[\u001b[38;5;124m'\u001b[39m\u001b[38;5;124mrealdist\u001b[39m\u001b[38;5;124m'\u001b[39m] \u001b[38;5;241m=\u001b[39m shuffled_realdist[i \u001b[38;5;241m*\u001b[39m \u001b[38;5;241m172801\u001b[39m : (i \u001b[38;5;241m+\u001b[39m \u001b[38;5;241m1\u001b[39m) \u001b[38;5;241m*\u001b[39m \u001b[38;5;241m172801\u001b[39m]\u001b[38;5;241m.\u001b[39mvalues\n\u001b[1;32m      8\u001b[0m \u001b[38;5;66;03m# 여기서 dataframes 리스트에 있는 각 DataFrame은 섞인 'realdist' 데이터를 새로 할당받았습니다.\u001b[39;00m\n\u001b[1;32m      9\u001b[0m \u001b[38;5;66;03m# 예를 들어, 결과 확인을 위해 첫 번째 데이터 프레임의 'realdist' 열의 처음 몇 개를 출력해 볼 수 있습니다.\u001b[39;00m\n\u001b[0;32m---> 10\u001b[0m \u001b[38;5;28mprint\u001b[39m(\u001b[43mdataframes\u001b[49m\u001b[43m[\u001b[49m\u001b[38;5;241;43m5\u001b[39;49m\u001b[43m]\u001b[49m[\u001b[38;5;124m'\u001b[39m\u001b[38;5;124mrealdist\u001b[39m\u001b[38;5;124m'\u001b[39m]\u001b[38;5;241m.\u001b[39mhead())\n",
      "\u001b[0;31mIndexError\u001b[0m: list index out of range"
     ]
    }
   ],
   "source": [
    "\n",
    "# 데이터를 무작위로 섞음\n",
    "shuffled_realdist = all_realdist.sample(frac=1).reset_index(drop=True)\n",
    "\n",
    "# 섞인 데이터를 다시 172801개씩 나누어 각각의 데이터 프레임에 넣음\n",
    "for i, df in enumerate(dataframes):\n",
    "    df['realdist'] = shuffled_realdist[i * 172801 : (i + 1) * 172801].values\n",
    "\n",
    "# 여기서 dataframes 리스트에 있는 각 DataFrame은 섞인 'realdist' 데이터를 새로 할당받았습니다.\n",
    "# 예를 들어, 결과 확인을 위해 첫 번째 데이터 프레임의 'realdist' 열의 처음 몇 개를 출력해 볼 수 있습니다.\n",
    "print(dataframes[5]['realdist'].head())"
   ]
  },
  {
   "cell_type": "code",
   "execution_count": 38,
   "metadata": {},
   "outputs": [
    {
     "ename": "IndexError",
     "evalue": "list index out of range",
     "output_type": "error",
     "traceback": [
      "\u001b[0;31m---------------------------------------------------------------------------\u001b[0m",
      "\u001b[0;31mIndexError\u001b[0m                                Traceback (most recent call last)",
      "Cell \u001b[0;32mIn[38], line 1\u001b[0m\n\u001b[0;32m----> 1\u001b[0m result1 \u001b[38;5;241m=\u001b[39m \u001b[43mdataframes\u001b[49m\u001b[43m[\u001b[49m\u001b[38;5;241;43m0\u001b[39;49m\u001b[43m]\u001b[49m[\u001b[38;5;124m'\u001b[39m\u001b[38;5;124mrealdist\u001b[39m\u001b[38;5;124m'\u001b[39m]\n\u001b[1;32m      2\u001b[0m result2 \u001b[38;5;241m=\u001b[39m dataframes[\u001b[38;5;241m1\u001b[39m][\u001b[38;5;124m'\u001b[39m\u001b[38;5;124mrealdist\u001b[39m\u001b[38;5;124m'\u001b[39m]\n\u001b[1;32m      3\u001b[0m result3 \u001b[38;5;241m=\u001b[39m dataframes[\u001b[38;5;241m2\u001b[39m][\u001b[38;5;124m'\u001b[39m\u001b[38;5;124mrealdist\u001b[39m\u001b[38;5;124m'\u001b[39m]\n",
      "\u001b[0;31mIndexError\u001b[0m: list index out of range"
     ]
    }
   ],
   "source": [
    "result1 = dataframes[0]['realdist']\n",
    "result2 = dataframes[1]['realdist']\n",
    "result3 = dataframes[2]['realdist']\n",
    "result4 = dataframes[3]['realdist']\n",
    "result5 = dataframes[4]['realdist']\n",
    "result6 = dataframes[5]['realdist']\n"
   ]
  },
  {
   "cell_type": "code",
   "execution_count": 34,
   "metadata": {},
   "outputs": [],
   "source": [
    "def generate_rssi(result6):\n",
    "    # 기존의 RSSI 생성 로직\n",
    "    if result6 == 1:\n",
    "        return np.random.randint(-77, -56)\n",
    "    elif result6  == 2:\n",
    "        return np.random.randint(-93, -61)\n",
    "    elif result6  == 3:\n",
    "        return np.random.randint(-96, -65)\n",
    "    elif result6 == 4:\n",
    "        return np.random.randint(-82, -54)\n",
    "    elif result6 == 5:\n",
    "        return np.random.randint(-88, -68)\n",
    "    elif result6 == 6:\n",
    "        return np.random.randint(-99, -64)\n",
    "    else:  # dist == 7\n",
    "        return np.random.randint(-97, -71)\n",
    "result_values = range(1,172802)\n",
    "rssi_values = [generate_rssi(result6)  for result6 in result_values]\n"
   ]
  },
  {
   "cell_type": "code",
   "execution_count": 36,
   "metadata": {},
   "outputs": [
    {
     "name": "stdout",
     "output_type": "stream",
     "text": [
      "                     uuid  major  minor  rssi  txpower  realdist  \\\n",
      "0       c2:02:0b:00:05:60  40001  30556   -67      -59         1   \n",
      "1       c2:02:0b:00:05:60  40001  30556   -66      -59         1   \n",
      "2       c2:02:0b:00:05:60  40001  30556   -66      -59         1   \n",
      "3       c2:02:0b:00:05:60  40001  30556   -65      -59         1   \n",
      "4       c2:02:0b:00:05:60  40001  30556   -82      -59         1   \n",
      "...                   ...    ...    ...   ...      ...       ...   \n",
      "172796  c2:02:0b:00:05:60  40001  30556   -84      -59         7   \n",
      "172797  c2:02:0b:00:05:60  40001  30556   -87      -59         7   \n",
      "172798  c2:02:0b:00:05:60  40001  30556   -89      -59         7   \n",
      "172799  c2:02:0b:00:05:60  40001  30556   -96      -59         7   \n",
      "172800  c2:02:0b:00:05:60  40001  30556   -96      -59         7   \n",
      "\n",
      "                    time  \n",
      "0        3/18/24 0:00:00  \n",
      "1        3/18/24 0:00:01  \n",
      "2        3/18/24 0:00:02  \n",
      "3        3/18/24 0:00:03  \n",
      "4        3/18/24 0:00:04  \n",
      "...                  ...  \n",
      "172796  3/19/24 23:59:56  \n",
      "172797  3/19/24 23:59:57  \n",
      "172798  3/19/24 23:59:58  \n",
      "172799  3/19/24 23:59:59  \n",
      "172800   3/20/24 0:00:00  \n",
      "\n",
      "[172801 rows x 7 columns]\n"
     ]
    },
    {
     "ename": "NameError",
     "evalue": "name 'result6' is not defined",
     "output_type": "error",
     "traceback": [
      "\u001b[0;31m---------------------------------------------------------------------------\u001b[0m",
      "\u001b[0;31mNameError\u001b[0m                                 Traceback (most recent call last)",
      "Cell \u001b[0;32mIn[36], line 11\u001b[0m\n\u001b[1;32m      9\u001b[0m rssi \u001b[38;5;241m=\u001b[39m rssi_values\n\u001b[1;32m     10\u001b[0m txpower \u001b[38;5;241m=\u001b[39m df[\u001b[38;5;124m'\u001b[39m\u001b[38;5;124mtxpower\u001b[39m\u001b[38;5;124m'\u001b[39m][\u001b[38;5;241m0\u001b[39m:\u001b[38;5;241m172801\u001b[39m]\n\u001b[0;32m---> 11\u001b[0m realdist \u001b[38;5;241m=\u001b[39m \u001b[43mresult6\u001b[49m\n",
      "\u001b[0;31mNameError\u001b[0m: name 'result6' is not defined"
     ]
    }
   ],
   "source": [
    "import pandas as pd\n",
    "path = \"/Users/yanghwayeong/Desktop/RSSI_Speed_Estimation/data/6m.csv\"\n",
    "dataframes = []\n",
    "df = pd.read_csv(path)\n",
    "print(df)\n",
    "uuid = df['uuid'][0:172801]\n",
    "major = df['major'][0:172801]\n",
    "minor = df['minor'][0:172801]\n",
    "rssi = rssi_values\n",
    "txpower = df['txpower'][0:172801]\n",
    "realdist = result6\n"
   ]
  },
  {
   "cell_type": "code",
   "execution_count": 33,
   "metadata": {},
   "outputs": [],
   "source": [
    "import pandas as pd\n",
    "\n",
    "# 이전 단계에서 생성한 데이터 또는 계산된 결과\n",
    "# x, major, rssi, txpower, realdist, df_speedestimation 등의 변수가 이미 정의되어 있다고 가정\n",
    "\n",
    "path = \"/Users/yanghwayeong/Desktop/RSSI_Speed_Estimation/data/\"\n",
    "df_1m = []\n",
    "df_1m = pd.DataFrame({\n",
    "    'x': uuid,\n",
    "    'major': major,\n",
    "    'minor': minor,\n",
    "    'rssi': rssi,\n",
    "    'txpower': txpower,\n",
    "    'realdist': realdist,\n",
    "})\n",
    "df_1m.to_csv(path + '30550_mapping.csv', index=False)\n",
    " \n"
   ]
  },
  {
   "cell_type": "code",
   "execution_count": null,
   "metadata": {},
   "outputs": [],
   "source": [
    "# 파일 경로\n",
    "output_path = \"/Users/yanghwayeong/Desktop/RSSI_Speed_Estimation/data/shuffled/\"\n",
    "\n",
    "# 수정된 데이터 프레임을 CSV 파일로 저장\n",
    "for i, df in enumerate(dataframes):\n",
    "    # 파일 이름 설정 (예: 'shuffled_1m.csv')\n",
    "    output_file_name = f\"shuffled_{i+1}m.csv\"\n",
    "    # 파일 저장\n",
    "    df.to_csv(output_path + output_file_name, index=False)\n",
    "\n",
    "# 이제 각 데이터 프레임은 'shuffled_' 접두어가 붙은 새로운 CSV 파일로 저장됩니다."
   ]
  },
  {
   "cell_type": "code",
   "execution_count": 57,
   "metadata": {},
   "outputs": [
    {
     "name": "stdout",
     "output_type": "stream",
     "text": [
      "10\n",
      "12\n",
      "14\n",
      "16\n",
      "18\n",
      "20\n"
     ]
    }
   ],
   "source": [
    "for i in range(0,101):\n",
    "    if 10 <= i <= 20 :\n",
    "        if i%2 == 0:\n",
    "            print(i)"
   ]
  }
 ],
 "metadata": {
  "kernelspec": {
   "display_name": "Python 3",
   "language": "python",
   "name": "python3"
  },
  "language_info": {
   "codemirror_mode": {
    "name": "ipython",
    "version": 3
   },
   "file_extension": ".py",
   "mimetype": "text/x-python",
   "name": "python",
   "nbconvert_exporter": "python",
   "pygments_lexer": "ipython3",
   "version": "3.12.2"
  }
 },
 "nbformat": 4,
 "nbformat_minor": 2
}
